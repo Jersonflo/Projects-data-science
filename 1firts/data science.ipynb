{
 "cells": [
  {
   "cell_type": "code",
   "execution_count": 2,
   "metadata": {},
   "outputs": [
    {
     "name": "stdout",
     "output_type": "stream",
     "text": [
      "Requirement already satisfied: pandas in /Applications/anaconda3/envs/datas/lib/python3.11/site-packages (2.2.3)\n",
      "Requirement already satisfied: numpy>=1.23.2 in /Applications/anaconda3/envs/datas/lib/python3.11/site-packages (from pandas) (2.2.1)\n",
      "Requirement already satisfied: python-dateutil>=2.8.2 in /Applications/anaconda3/envs/datas/lib/python3.11/site-packages (from pandas) (2.9.0.post0)\n",
      "Requirement already satisfied: pytz>=2020.1 in /Applications/anaconda3/envs/datas/lib/python3.11/site-packages (from pandas) (2024.2)\n",
      "Requirement already satisfied: tzdata>=2022.7 in /Applications/anaconda3/envs/datas/lib/python3.11/site-packages (from pandas) (2024.2)\n",
      "Requirement already satisfied: six>=1.5 in /Applications/anaconda3/envs/datas/lib/python3.11/site-packages (from python-dateutil>=2.8.2->pandas) (1.17.0)\n",
      "Note: you may need to restart the kernel to use updated packages.\n"
     ]
    }
   ],
   "source": [
    "%pip install pandas"
   ]
  },
  {
   "cell_type": "code",
   "execution_count": 5,
   "metadata": {},
   "outputs": [],
   "source": [
    "import pandas as pd\n",
    "from string import ascii_uppercase as alfabeto\n",
    "import pickle\n",
    "import requests\n",
    "from bs4 import BeautifulSoup\n",
    "from tqdm import tqdm\n",
    "import html5lib"
   ]
  },
  {
   "cell_type": "code",
   "execution_count": 17,
   "metadata": {},
   "outputs": [
    {
     "name": "stdout",
     "output_type": "stream",
     "text": [
      "Total de tablas encontradas: 91\n"
     ]
    },
    {
     "data": {
      "text/plain": [
       "<table class=\"wikitable\" style=\"text-align:center;\">\n",
       "<tbody><tr>\n",
       "<th scope=\"col\" width=\"28\"><abbr title=\"Position\">Pos</abbr>\n",
       "</th>\n",
       "<th scope=\"col\" width=\"190\">Team<style data-mw-deduplicate=\"TemplateStyles:r1063604349\">.mw-parser-output .navbar{display:inline;font-size:88%;font-weight:normal}.mw-parser-output .navbar-collapse{float:left;text-align:left}.mw-parser-output .navbar-boxtext{word-spacing:0}.mw-parser-output .navbar ul{display:inline-block;white-space:nowrap;line-height:inherit}.mw-parser-output .navbar-brackets::before{margin-right:-0.125em;content:\"[ \"}.mw-parser-output .navbar-brackets::after{margin-left:-0.125em;content:\" ]\"}.mw-parser-output .navbar li{word-spacing:-0.125em}.mw-parser-output .navbar a>span,.mw-parser-output .navbar a>abbr{text-decoration:inherit}.mw-parser-output .navbar-mini abbr{font-variant:small-caps;border-bottom:none;text-decoration:none;cursor:inherit}.mw-parser-output .navbar-ct-full{font-size:114%;margin:0 7em}.mw-parser-output .navbar-ct-mini{font-size:114%;margin:0 4em}</style><div class=\"navbar plainlinks hlist navbar-mini\" style=\"float:right\"><ul class=\"navbar-brackets\"><li class=\"nv-view\"><a href=\"/web/20221115040351/https://en.wikipedia.org/wiki/Template:2022_FIFA_World_Cup_group_tables\" title=\"Template:2022 FIFA World Cup group tables\"><abbr title=\"View this template\">v</abbr></a></li><li class=\"nv-talk\"><a href=\"/web/20221115040351/https://en.wikipedia.org/wiki/Template_talk:2022_FIFA_World_Cup_group_tables\" title=\"Template talk:2022 FIFA World Cup group tables\"><abbr title=\"Discuss this template\">t</abbr></a></li><li class=\"nv-edit\"><a class=\"external text\" href=\"https://web.archive.org/web/20221115040351/https://en.wikipedia.org/w/index.php?title=Template:2022_FIFA_World_Cup_group_tables&amp;action=edit\"><abbr title=\"Edit this template\">e</abbr></a></li></ul></div>\n",
       "</th>\n",
       "<th scope=\"col\" width=\"28\"><abbr title=\"Played\">Pld</abbr>\n",
       "</th>\n",
       "<th scope=\"col\" width=\"28\"><abbr title=\"Won\">W</abbr>\n",
       "</th>\n",
       "<th scope=\"col\" width=\"28\"><abbr title=\"Drawn\">D</abbr>\n",
       "</th>\n",
       "<th scope=\"col\" width=\"28\"><abbr title=\"Lost\">L</abbr>\n",
       "</th>\n",
       "<th scope=\"col\" width=\"28\"><abbr title=\"Goals for\">GF</abbr>\n",
       "</th>\n",
       "<th scope=\"col\" width=\"28\"><abbr title=\"Goals against\">GA</abbr>\n",
       "</th>\n",
       "<th scope=\"col\" width=\"28\"><abbr title=\"Goal difference\">GD</abbr>\n",
       "</th>\n",
       "<th scope=\"col\" width=\"28\"><abbr title=\"Points\">Pts</abbr>\n",
       "</th>\n",
       "<th scope=\"col\">Qualification\n",
       "</th></tr>\n",
       "<tr>\n",
       "<td style=\"text-align: center;font-weight: normal;background-color:#BBF3BB;\">1\n",
       "</td>\n",
       "<th scope=\"row\" style=\"text-align: left; white-space:nowrap;font-weight: normal;background-color:#BBF3BB;\"><span style=\"white-space:nowrap\"><span class=\"flagicon\"><img alt=\"\" class=\"thumbborder\" data-file-height=\"550\" data-file-width=\"1400\" decoding=\"async\" height=\"9\" src=\"//web.archive.org/web/20221115040351im_/https://upload.wikimedia.org/wikipedia/commons/thumb/6/65/Flag_of_Qatar.svg/23px-Flag_of_Qatar.svg.png\" srcset=\"//web.archive.org/web/20221115040351im_/https://upload.wikimedia.org/wikipedia/commons/thumb/6/65/Flag_of_Qatar.svg/35px-Flag_of_Qatar.svg.png 1.5x, //web.archive.org/web/20221115040351im_/https://upload.wikimedia.org/wikipedia/commons/thumb/6/65/Flag_of_Qatar.svg/46px-Flag_of_Qatar.svg.png 2x\" width=\"23\"/> </span><a href=\"/web/20221115040351/https://en.wikipedia.org/wiki/Qatar_national_football_team\" title=\"Qatar national football team\">Qatar</a></span> <span style=\"font-weight:bold\">(H)</span>\n",
       "</th>\n",
       "<td style=\"font-weight: normal;background-color:#BBF3BB;\">0\n",
       "</td>\n",
       "<td style=\"font-weight: normal;background-color:#BBF3BB;\">0\n",
       "</td>\n",
       "<td style=\"font-weight: normal;background-color:#BBF3BB;\">0\n",
       "</td>\n",
       "<td style=\"font-weight: normal;background-color:#BBF3BB;\">0\n",
       "</td>\n",
       "<td style=\"font-weight: normal;background-color:#BBF3BB;\">0\n",
       "</td>\n",
       "<td style=\"font-weight: normal;background-color:#BBF3BB;\">0\n",
       "</td>\n",
       "<td style=\"font-weight: normal;background-color:#BBF3BB;\">0\n",
       "</td>\n",
       "<td style=\"font-weight: bold;background-color:#BBF3BB;\">0\n",
       "</td>\n",
       "<td rowspan=\"2\" style=\"font-weight: normal;background-color:#BBF3BB;\">Advance to <a href=\"/web/20221115040351/https://en.wikipedia.org/wiki/2022_FIFA_World_Cup#Knockout_stage\" title=\"2022 FIFA World Cup\">knockout stage</a>\n",
       "</td></tr>\n",
       "<tr>\n",
       "<td style=\"text-align: center;font-weight: normal;background-color:#BBF3BB;\">2\n",
       "</td>\n",
       "<th scope=\"row\" style=\"text-align: left; white-space:nowrap;font-weight: normal;background-color:#BBF3BB;\"><span style=\"white-space:nowrap\"><span class=\"flagicon\"><img alt=\"\" class=\"thumbborder\" data-file-height=\"960\" data-file-width=\"1440\" decoding=\"async\" height=\"15\" src=\"//web.archive.org/web/20221115040351im_/https://upload.wikimedia.org/wikipedia/commons/thumb/e/e8/Flag_of_Ecuador.svg/23px-Flag_of_Ecuador.svg.png\" srcset=\"//web.archive.org/web/20221115040351im_/https://upload.wikimedia.org/wikipedia/commons/thumb/e/e8/Flag_of_Ecuador.svg/35px-Flag_of_Ecuador.svg.png 1.5x, //web.archive.org/web/20221115040351im_/https://upload.wikimedia.org/wikipedia/commons/thumb/e/e8/Flag_of_Ecuador.svg/45px-Flag_of_Ecuador.svg.png 2x\" width=\"23\"/> </span><a href=\"/web/20221115040351/https://en.wikipedia.org/wiki/Ecuador_national_football_team\" title=\"Ecuador national football team\">Ecuador</a></span>\n",
       "</th>\n",
       "<td style=\"font-weight: normal;background-color:#BBF3BB;\">0\n",
       "</td>\n",
       "<td style=\"font-weight: normal;background-color:#BBF3BB;\">0\n",
       "</td>\n",
       "<td style=\"font-weight: normal;background-color:#BBF3BB;\">0\n",
       "</td>\n",
       "<td style=\"font-weight: normal;background-color:#BBF3BB;\">0\n",
       "</td>\n",
       "<td style=\"font-weight: normal;background-color:#BBF3BB;\">0\n",
       "</td>\n",
       "<td style=\"font-weight: normal;background-color:#BBF3BB;\">0\n",
       "</td>\n",
       "<td style=\"font-weight: normal;background-color:#BBF3BB;\">0\n",
       "</td>\n",
       "<td style=\"font-weight: bold;background-color:#BBF3BB;\">0\n",
       "</td></tr>\n",
       "<tr>\n",
       "<td style=\"text-align: center;font-weight: normal;background-color:transparent;\">3\n",
       "</td>\n",
       "<th scope=\"row\" style=\"text-align: left; white-space:nowrap;font-weight: normal;background-color:transparent;\"><span style=\"white-space:nowrap\"><span class=\"flagicon\"><img alt=\"\" class=\"thumbborder\" data-file-height=\"600\" data-file-width=\"900\" decoding=\"async\" height=\"15\" src=\"//web.archive.org/web/20221115040351im_/https://upload.wikimedia.org/wikipedia/commons/thumb/f/fd/Flag_of_Senegal.svg/23px-Flag_of_Senegal.svg.png\" srcset=\"//web.archive.org/web/20221115040351im_/https://upload.wikimedia.org/wikipedia/commons/thumb/f/fd/Flag_of_Senegal.svg/35px-Flag_of_Senegal.svg.png 1.5x, //web.archive.org/web/20221115040351im_/https://upload.wikimedia.org/wikipedia/commons/thumb/f/fd/Flag_of_Senegal.svg/45px-Flag_of_Senegal.svg.png 2x\" width=\"23\"/> </span><a href=\"/web/20221115040351/https://en.wikipedia.org/wiki/Senegal_national_football_team\" title=\"Senegal national football team\">Senegal</a></span>\n",
       "</th>\n",
       "<td style=\"font-weight: normal;background-color:transparent;\">0\n",
       "</td>\n",
       "<td style=\"font-weight: normal;background-color:transparent;\">0\n",
       "</td>\n",
       "<td style=\"font-weight: normal;background-color:transparent;\">0\n",
       "</td>\n",
       "<td style=\"font-weight: normal;background-color:transparent;\">0\n",
       "</td>\n",
       "<td style=\"font-weight: normal;background-color:transparent;\">0\n",
       "</td>\n",
       "<td style=\"font-weight: normal;background-color:transparent;\">0\n",
       "</td>\n",
       "<td style=\"font-weight: normal;background-color:transparent;\">0\n",
       "</td>\n",
       "<td style=\"font-weight: bold;background-color:transparent;\">0\n",
       "</td>\n",
       "<td rowspan=\"2\" style=\"font-weight: normal;background-color:transparent;\">\n",
       "</td></tr>\n",
       "<tr>\n",
       "<td style=\"text-align: center;font-weight: normal;background-color:transparent;\">4\n",
       "</td>\n",
       "<th scope=\"row\" style=\"text-align: left; white-space:nowrap;font-weight: normal;background-color:transparent;\"><span style=\"white-space:nowrap\"><span class=\"flagicon\"><img alt=\"\" class=\"thumbborder\" data-file-height=\"600\" data-file-width=\"900\" decoding=\"async\" height=\"15\" src=\"//web.archive.org/web/20221115040351im_/https://upload.wikimedia.org/wikipedia/commons/thumb/2/20/Flag_of_the_Netherlands.svg/23px-Flag_of_the_Netherlands.svg.png\" srcset=\"//web.archive.org/web/20221115040351im_/https://upload.wikimedia.org/wikipedia/commons/thumb/2/20/Flag_of_the_Netherlands.svg/35px-Flag_of_the_Netherlands.svg.png 1.5x, //web.archive.org/web/20221115040351im_/https://upload.wikimedia.org/wikipedia/commons/thumb/2/20/Flag_of_the_Netherlands.svg/45px-Flag_of_the_Netherlands.svg.png 2x\" width=\"23\"/> </span><a href=\"/web/20221115040351/https://en.wikipedia.org/wiki/Netherlands_national_football_team\" title=\"Netherlands national football team\">Netherlands</a></span>\n",
       "</th>\n",
       "<td style=\"font-weight: normal;background-color:transparent;\">0\n",
       "</td>\n",
       "<td style=\"font-weight: normal;background-color:transparent;\">0\n",
       "</td>\n",
       "<td style=\"font-weight: normal;background-color:transparent;\">0\n",
       "</td>\n",
       "<td style=\"font-weight: normal;background-color:transparent;\">0\n",
       "</td>\n",
       "<td style=\"font-weight: normal;background-color:transparent;\">0\n",
       "</td>\n",
       "<td style=\"font-weight: normal;background-color:transparent;\">0\n",
       "</td>\n",
       "<td style=\"font-weight: normal;background-color:transparent;\">0\n",
       "</td>\n",
       "<td style=\"font-weight: bold;background-color:transparent;\">0\n",
       "</td></tr></tbody></table>"
      ]
     },
     "execution_count": 17,
     "metadata": {},
     "output_type": "execute_result"
    }
   ],
   "source": [
    "url = 'https://web.archive.org/web/20221115040351/https://en.wikipedia.org/wiki/2022_FIFA_World_Cup'\n",
    "respuesta = requests.get(url)\n",
    "\n",
    "# Parsea el contenido HTML\n",
    "soup = BeautifulSoup(respuesta.content, 'html.parser')\n",
    "\n",
    "# Obtiene todas las tablas en la página\n",
    "tables = soup.find_all('table')\n",
    "\n",
    "print(f'Total de tablas encontradas: {len(tables)}')\n",
    "\n",
    "tables[11]"
   ]
  },
  {
   "cell_type": "code",
   "execution_count": 21,
   "metadata": {},
   "outputs": [
    {
     "name": "stdout",
     "output_type": "stream",
     "text": [
      "Total de tablas encontradas: 8\n"
     ]
    },
    {
     "name": "stderr",
     "output_type": "stream",
     "text": [
      "/var/folders/1_/rpmlg6tn4mn8gx3g8sss013w0000gp/T/ipykernel_1100/962289569.py:1: FutureWarning: Passing literal html to 'read_html' is deprecated and will be removed in a future version. To read from a literal string, wrap it in a 'StringIO' object.\n",
      "  match_tables = pd.read_html(respuesta.text, match=\"Pos\")\n"
     ]
    }
   ],
   "source": [
    "match_tables = pd.read_html(respuesta.text, match=\"Pos\")\n",
    "\n",
    "# Revisar cuántas tablas se encontraron\n",
    "print(f\"Total de tablas encontradas: {len(match_tables)}\")"
   ]
  },
  {
   "cell_type": "code",
   "execution_count": 30,
   "metadata": {},
   "outputs": [
    {
     "data": {
      "text/plain": [
       "[   Pos      Teamvte  Pld  W  D  L  GF  GA  GD  Pts              Qualification\n",
       " 0    1    Qatar (H)    0  0  0  0   0   0   0    0  Advance to knockout stage\n",
       " 1    2      Ecuador    0  0  0  0   0   0   0    0  Advance to knockout stage\n",
       " 2    3      Senegal    0  0  0  0   0   0   0    0                        NaN\n",
       " 3    4  Netherlands    0  0  0  0   0   0   0    0                        NaN,\n",
       "    Pos        Teamvte  Pld  W  D  L  GF  GA  GD  Pts  \\\n",
       " 0    1        England    0  0  0  0   0   0   0    0   \n",
       " 1    2           Iran    0  0  0  0   0   0   0    0   \n",
       " 2    3  United States    0  0  0  0   0   0   0    0   \n",
       " 3    4          Wales    0  0  0  0   0   0   0    0   \n",
       " \n",
       "                Qualification  \n",
       " 0  Advance to knockout stage  \n",
       " 1  Advance to knockout stage  \n",
       " 2                        NaN  \n",
       " 3                        NaN  ,\n",
       "    Pos       Teamvte  Pld  W  D  L  GF  GA  GD  Pts              Qualification\n",
       " 0    1     Argentina    0  0  0  0   0   0   0    0  Advance to knockout stage\n",
       " 1    2  Saudi Arabia    0  0  0  0   0   0   0    0  Advance to knockout stage\n",
       " 2    3        Mexico    0  0  0  0   0   0   0    0                        NaN\n",
       " 3    4        Poland    0  0  0  0   0   0   0    0                        NaN,\n",
       "    Pos    Teamvte  Pld  W  D  L  GF  GA  GD  Pts              Qualification\n",
       " 0    1     France    0  0  0  0   0   0   0    0  Advance to knockout stage\n",
       " 1    2  Australia    0  0  0  0   0   0   0    0  Advance to knockout stage\n",
       " 2    3    Denmark    0  0  0  0   0   0   0    0                        NaN\n",
       " 3    4    Tunisia    0  0  0  0   0   0   0    0                        NaN,\n",
       "    Pos     Teamvte  Pld  W  D  L  GF  GA  GD  Pts              Qualification\n",
       " 0    1       Spain    0  0  0  0   0   0   0    0  Advance to knockout stage\n",
       " 1    2  Costa Rica    0  0  0  0   0   0   0    0  Advance to knockout stage\n",
       " 2    3     Germany    0  0  0  0   0   0   0    0                        NaN\n",
       " 3    4       Japan    0  0  0  0   0   0   0    0                        NaN,\n",
       "    Pos  Teamvte  Pld  W  D  L  GF  GA  GD  Pts              Qualification\n",
       " 0    1  Belgium    0  0  0  0   0   0   0    0  Advance to knockout stage\n",
       " 1    2   Canada    0  0  0  0   0   0   0    0  Advance to knockout stage\n",
       " 2    3  Morocco    0  0  0  0   0   0   0    0                        NaN\n",
       " 3    4  Croatia    0  0  0  0   0   0   0    0                        NaN,\n",
       "    Pos      Teamvte  Pld  W  D  L  GF  GA  GD  Pts              Qualification\n",
       " 0    1       Brazil    0  0  0  0   0   0   0    0  Advance to knockout stage\n",
       " 1    2       Serbia    0  0  0  0   0   0   0    0  Advance to knockout stage\n",
       " 2    3  Switzerland    0  0  0  0   0   0   0    0                        NaN\n",
       " 3    4     Cameroon    0  0  0  0   0   0   0    0                        NaN,\n",
       "    Pos      Teamvte  Pld  W  D  L  GF  GA  GD  Pts              Qualification\n",
       " 0    1     Portugal    0  0  0  0   0   0   0    0  Advance to knockout stage\n",
       " 1    2        Ghana    0  0  0  0   0   0   0    0  Advance to knockout stage\n",
       " 2    3      Uruguay    0  0  0  0   0   0   0    0                        NaN\n",
       " 3    4  South Korea    0  0  0  0   0   0   0    0                        NaN]"
      ]
     },
     "execution_count": 30,
     "metadata": {},
     "output_type": "execute_result"
    }
   ],
   "source": [
    "grupos= match_tables\n",
    "\n",
    "grupos"
   ]
  },
  {
   "cell_type": "code",
   "execution_count": 32,
   "metadata": {},
   "outputs": [
    {
     "data": {
      "text/plain": [
       "'Teamvte'"
      ]
     },
     "execution_count": 32,
     "metadata": {},
     "output_type": "execute_result"
    }
   ],
   "source": [
    "grupos[1].columns[1]"
   ]
  },
  {
   "cell_type": "code",
   "execution_count": 33,
   "metadata": {},
   "outputs": [
    {
     "data": {
      "text/plain": [
       "'ABCDEFGHIJKLMNOPQRSTUVWXYZ'"
      ]
     },
     "execution_count": 33,
     "metadata": {},
     "output_type": "execute_result"
    }
   ],
   "source": [
    "alfabeto"
   ]
  },
  {
   "cell_type": "code",
   "execution_count": 36,
   "metadata": {},
   "outputs": [
    {
     "name": "stdout",
     "output_type": "stream",
     "text": [
      "A 0\n",
      "B 1\n",
      "C 2\n",
      "D 3\n",
      "E 4\n",
      "F 5\n",
      "G 6\n",
      "H 7\n"
     ]
    }
   ],
   "source": [
    "for letra, i in zip(alfabeto, range(0, 8,1 )):\n",
    "    print(letra, i)"
   ]
  },
  {
   "cell_type": "code",
   "execution_count": 37,
   "metadata": {},
   "outputs": [],
   "source": [
    "\n",
    "dict_tablas = {}\n",
    "for letra, i in zip(alfabeto, range(0, 8,1 )):\n",
    "    df = grupos[i]\n",
    "    df.rename(columns={df.columns[1]: 'Team'}, inplace=True)        \n",
    "    df.pop('Qualification')\n",
    "    dict_tablas[f'Grupo {letra}'] = df\n"
   ]
  },
  {
   "cell_type": "code",
   "execution_count": 38,
   "metadata": {},
   "outputs": [
    {
     "data": {
      "text/html": [
       "<div>\n",
       "<style scoped>\n",
       "    .dataframe tbody tr th:only-of-type {\n",
       "        vertical-align: middle;\n",
       "    }\n",
       "\n",
       "    .dataframe tbody tr th {\n",
       "        vertical-align: top;\n",
       "    }\n",
       "\n",
       "    .dataframe thead th {\n",
       "        text-align: right;\n",
       "    }\n",
       "</style>\n",
       "<table border=\"1\" class=\"dataframe\">\n",
       "  <thead>\n",
       "    <tr style=\"text-align: right;\">\n",
       "      <th></th>\n",
       "      <th>Pos</th>\n",
       "      <th>Team</th>\n",
       "      <th>Pld</th>\n",
       "      <th>W</th>\n",
       "      <th>D</th>\n",
       "      <th>L</th>\n",
       "      <th>GF</th>\n",
       "      <th>GA</th>\n",
       "      <th>GD</th>\n",
       "      <th>Pts</th>\n",
       "    </tr>\n",
       "  </thead>\n",
       "  <tbody>\n",
       "    <tr>\n",
       "      <th>0</th>\n",
       "      <td>1</td>\n",
       "      <td>Qatar (H)</td>\n",
       "      <td>0</td>\n",
       "      <td>0</td>\n",
       "      <td>0</td>\n",
       "      <td>0</td>\n",
       "      <td>0</td>\n",
       "      <td>0</td>\n",
       "      <td>0</td>\n",
       "      <td>0</td>\n",
       "    </tr>\n",
       "    <tr>\n",
       "      <th>1</th>\n",
       "      <td>2</td>\n",
       "      <td>Ecuador</td>\n",
       "      <td>0</td>\n",
       "      <td>0</td>\n",
       "      <td>0</td>\n",
       "      <td>0</td>\n",
       "      <td>0</td>\n",
       "      <td>0</td>\n",
       "      <td>0</td>\n",
       "      <td>0</td>\n",
       "    </tr>\n",
       "    <tr>\n",
       "      <th>2</th>\n",
       "      <td>3</td>\n",
       "      <td>Senegal</td>\n",
       "      <td>0</td>\n",
       "      <td>0</td>\n",
       "      <td>0</td>\n",
       "      <td>0</td>\n",
       "      <td>0</td>\n",
       "      <td>0</td>\n",
       "      <td>0</td>\n",
       "      <td>0</td>\n",
       "    </tr>\n",
       "    <tr>\n",
       "      <th>3</th>\n",
       "      <td>4</td>\n",
       "      <td>Netherlands</td>\n",
       "      <td>0</td>\n",
       "      <td>0</td>\n",
       "      <td>0</td>\n",
       "      <td>0</td>\n",
       "      <td>0</td>\n",
       "      <td>0</td>\n",
       "      <td>0</td>\n",
       "      <td>0</td>\n",
       "    </tr>\n",
       "  </tbody>\n",
       "</table>\n",
       "</div>"
      ],
      "text/plain": [
       "   Pos         Team  Pld  W  D  L  GF  GA  GD  Pts\n",
       "0    1    Qatar (H)    0  0  0  0   0   0   0    0\n",
       "1    2      Ecuador    0  0  0  0   0   0   0    0\n",
       "2    3      Senegal    0  0  0  0   0   0   0    0\n",
       "3    4  Netherlands    0  0  0  0   0   0   0    0"
      ]
     },
     "execution_count": 38,
     "metadata": {},
     "output_type": "execute_result"
    }
   ],
   "source": [
    "dict_tablas['Grupo A']"
   ]
  },
  {
   "cell_type": "code",
   "execution_count": 39,
   "metadata": {},
   "outputs": [],
   "source": [
    "with open('dict_table', 'wb') as output:\n",
    "    pickle.dump(dict_tablas,  output)   "
   ]
  },
  {
   "cell_type": "code",
   "execution_count": null,
   "metadata": {},
   "outputs": [],
   "source": [
    "years = [ 1930, 1934, 1938, 1950, 1954, 1958, 1962, 1966, 1970, 1974, 1978, 1982, 1986, 1990, 1994, 1998, 2002, 2006, 2010, 2014, 2018]"
   ]
  }
 ],
 "metadata": {
  "kernelspec": {
   "display_name": "datas",
   "language": "python",
   "name": "python3"
  },
  "language_info": {
   "codemirror_mode": {
    "name": "ipython",
    "version": 3
   },
   "file_extension": ".py",
   "mimetype": "text/x-python",
   "name": "python",
   "nbconvert_exporter": "python",
   "pygments_lexer": "ipython3",
   "version": "3.11.0"
  }
 },
 "nbformat": 4,
 "nbformat_minor": 2
}
